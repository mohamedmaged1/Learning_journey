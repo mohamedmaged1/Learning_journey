{
 "cells": [
  {
   "cell_type": "code",
   "execution_count": 1,
   "id": "frequent-interaction",
   "metadata": {},
   "outputs": [],
   "source": [
    "import seaborn as sns\n",
    "import matplotlib as plt \n",
    "import pandas as pd \n",
    "import numpy as np"
   ]
  },
  {
   "cell_type": "code",
   "execution_count": 3,
   "id": "arranged-picture",
   "metadata": {},
   "outputs": [],
   "source": [
    "cand=pd.read_csv(r\"D:\\ML\\candyhierarchy2017.csv\",encoding='ISO-8859-1')"
   ]
  },
  {
   "cell_type": "code",
   "execution_count": 4,
   "id": "optical-offering",
   "metadata": {},
   "outputs": [
    {
     "data": {
      "text/html": [
       "<div>\n",
       "<style scoped>\n",
       "    .dataframe tbody tr th:only-of-type {\n",
       "        vertical-align: middle;\n",
       "    }\n",
       "\n",
       "    .dataframe tbody tr th {\n",
       "        vertical-align: top;\n",
       "    }\n",
       "\n",
       "    .dataframe thead th {\n",
       "        text-align: right;\n",
       "    }\n",
       "</style>\n",
       "<table border=\"1\" class=\"dataframe\">\n",
       "  <thead>\n",
       "    <tr style=\"text-align: right;\">\n",
       "      <th></th>\n",
       "      <th>Internal ID</th>\n",
       "      <th>Q1: GOING OUT?</th>\n",
       "      <th>Q2: GENDER</th>\n",
       "      <th>Q3: AGE</th>\n",
       "      <th>Q4: COUNTRY</th>\n",
       "      <th>Q5: STATE, PROVINCE, COUNTY, ETC</th>\n",
       "      <th>Q6 | 100 Grand Bar</th>\n",
       "      <th>Q6 | Anonymous brown globs that come in black and orange wrappers\t(a.k.a. Mary Janes)</th>\n",
       "      <th>Q6 | Any full-sized candy bar</th>\n",
       "      <th>Q6 | Black Jacks</th>\n",
       "      <th>...</th>\n",
       "      <th>Q8: DESPAIR OTHER</th>\n",
       "      <th>Q9: OTHER COMMENTS</th>\n",
       "      <th>Q10: DRESS</th>\n",
       "      <th>Unnamed: 113</th>\n",
       "      <th>Q11: DAY</th>\n",
       "      <th>Q12: MEDIA [Daily Dish]</th>\n",
       "      <th>Q12: MEDIA [Science]</th>\n",
       "      <th>Q12: MEDIA [ESPN]</th>\n",
       "      <th>Q12: MEDIA [Yahoo]</th>\n",
       "      <th>Click Coordinates (x, y)</th>\n",
       "    </tr>\n",
       "  </thead>\n",
       "  <tbody>\n",
       "    <tr>\n",
       "      <th>0</th>\n",
       "      <td>90258773</td>\n",
       "      <td>NaN</td>\n",
       "      <td>NaN</td>\n",
       "      <td>NaN</td>\n",
       "      <td>NaN</td>\n",
       "      <td>NaN</td>\n",
       "      <td>NaN</td>\n",
       "      <td>NaN</td>\n",
       "      <td>NaN</td>\n",
       "      <td>NaN</td>\n",
       "      <td>...</td>\n",
       "      <td>NaN</td>\n",
       "      <td>NaN</td>\n",
       "      <td>NaN</td>\n",
       "      <td>NaN</td>\n",
       "      <td>NaN</td>\n",
       "      <td>NaN</td>\n",
       "      <td>NaN</td>\n",
       "      <td>NaN</td>\n",
       "      <td>NaN</td>\n",
       "      <td>NaN</td>\n",
       "    </tr>\n",
       "    <tr>\n",
       "      <th>1</th>\n",
       "      <td>90272821</td>\n",
       "      <td>No</td>\n",
       "      <td>Male</td>\n",
       "      <td>44</td>\n",
       "      <td>USA</td>\n",
       "      <td>NM</td>\n",
       "      <td>MEH</td>\n",
       "      <td>DESPAIR</td>\n",
       "      <td>JOY</td>\n",
       "      <td>MEH</td>\n",
       "      <td>...</td>\n",
       "      <td>NaN</td>\n",
       "      <td>Bottom line is Twix is really the only candy w...</td>\n",
       "      <td>White and gold</td>\n",
       "      <td>NaN</td>\n",
       "      <td>Sunday</td>\n",
       "      <td>NaN</td>\n",
       "      <td>1.0</td>\n",
       "      <td>NaN</td>\n",
       "      <td>NaN</td>\n",
       "      <td>(84, 25)</td>\n",
       "    </tr>\n",
       "    <tr>\n",
       "      <th>2</th>\n",
       "      <td>90272829</td>\n",
       "      <td>NaN</td>\n",
       "      <td>Male</td>\n",
       "      <td>49</td>\n",
       "      <td>USA</td>\n",
       "      <td>Virginia</td>\n",
       "      <td>NaN</td>\n",
       "      <td>NaN</td>\n",
       "      <td>NaN</td>\n",
       "      <td>NaN</td>\n",
       "      <td>...</td>\n",
       "      <td>NaN</td>\n",
       "      <td>NaN</td>\n",
       "      <td>NaN</td>\n",
       "      <td>NaN</td>\n",
       "      <td>NaN</td>\n",
       "      <td>NaN</td>\n",
       "      <td>NaN</td>\n",
       "      <td>NaN</td>\n",
       "      <td>NaN</td>\n",
       "      <td>NaN</td>\n",
       "    </tr>\n",
       "    <tr>\n",
       "      <th>3</th>\n",
       "      <td>90272840</td>\n",
       "      <td>No</td>\n",
       "      <td>Male</td>\n",
       "      <td>40</td>\n",
       "      <td>us</td>\n",
       "      <td>or</td>\n",
       "      <td>MEH</td>\n",
       "      <td>DESPAIR</td>\n",
       "      <td>JOY</td>\n",
       "      <td>MEH</td>\n",
       "      <td>...</td>\n",
       "      <td>NaN</td>\n",
       "      <td>Raisins can go to hell</td>\n",
       "      <td>White and gold</td>\n",
       "      <td>NaN</td>\n",
       "      <td>Sunday</td>\n",
       "      <td>NaN</td>\n",
       "      <td>1.0</td>\n",
       "      <td>NaN</td>\n",
       "      <td>NaN</td>\n",
       "      <td>(75, 23)</td>\n",
       "    </tr>\n",
       "    <tr>\n",
       "      <th>4</th>\n",
       "      <td>90272841</td>\n",
       "      <td>No</td>\n",
       "      <td>Male</td>\n",
       "      <td>23</td>\n",
       "      <td>usa</td>\n",
       "      <td>exton pa</td>\n",
       "      <td>JOY</td>\n",
       "      <td>DESPAIR</td>\n",
       "      <td>JOY</td>\n",
       "      <td>DESPAIR</td>\n",
       "      <td>...</td>\n",
       "      <td>NaN</td>\n",
       "      <td>NaN</td>\n",
       "      <td>White and gold</td>\n",
       "      <td>NaN</td>\n",
       "      <td>Friday</td>\n",
       "      <td>NaN</td>\n",
       "      <td>1.0</td>\n",
       "      <td>NaN</td>\n",
       "      <td>NaN</td>\n",
       "      <td>(70, 10)</td>\n",
       "    </tr>\n",
       "  </tbody>\n",
       "</table>\n",
       "<p>5 rows × 120 columns</p>\n",
       "</div>"
      ],
      "text/plain": [
       "   Internal ID Q1: GOING OUT? Q2: GENDER Q3: AGE Q4: COUNTRY  \\\n",
       "0     90258773            NaN        NaN     NaN         NaN   \n",
       "1     90272821             No       Male      44        USA    \n",
       "2     90272829            NaN       Male      49         USA   \n",
       "3     90272840             No       Male      40          us   \n",
       "4     90272841             No       Male      23         usa   \n",
       "\n",
       "  Q5: STATE, PROVINCE, COUNTY, ETC Q6 | 100 Grand Bar  \\\n",
       "0                              NaN                NaN   \n",
       "1                               NM                MEH   \n",
       "2                         Virginia                NaN   \n",
       "3                               or                MEH   \n",
       "4                         exton pa                JOY   \n",
       "\n",
       "  Q6 | Anonymous brown globs that come in black and orange wrappers\\t(a.k.a. Mary Janes)  \\\n",
       "0                                                NaN                                       \n",
       "1                                            DESPAIR                                       \n",
       "2                                                NaN                                       \n",
       "3                                            DESPAIR                                       \n",
       "4                                            DESPAIR                                       \n",
       "\n",
       "  Q6 | Any full-sized candy bar Q6 | Black Jacks  ... Q8: DESPAIR OTHER  \\\n",
       "0                           NaN              NaN  ...               NaN   \n",
       "1                           JOY              MEH  ...               NaN   \n",
       "2                           NaN              NaN  ...               NaN   \n",
       "3                           JOY              MEH  ...               NaN   \n",
       "4                           JOY          DESPAIR  ...               NaN   \n",
       "\n",
       "                                  Q9: OTHER COMMENTS      Q10: DRESS  \\\n",
       "0                                                NaN             NaN   \n",
       "1  Bottom line is Twix is really the only candy w...  White and gold   \n",
       "2                                                NaN             NaN   \n",
       "3                             Raisins can go to hell  White and gold   \n",
       "4                                                NaN  White and gold   \n",
       "\n",
       "  Unnamed: 113 Q11: DAY Q12: MEDIA [Daily Dish] Q12: MEDIA [Science]  \\\n",
       "0          NaN      NaN                     NaN                  NaN   \n",
       "1          NaN   Sunday                     NaN                  1.0   \n",
       "2          NaN      NaN                     NaN                  NaN   \n",
       "3          NaN   Sunday                     NaN                  1.0   \n",
       "4          NaN   Friday                     NaN                  1.0   \n",
       "\n",
       "  Q12: MEDIA [ESPN] Q12: MEDIA [Yahoo] Click Coordinates (x, y)  \n",
       "0               NaN                NaN                      NaN  \n",
       "1               NaN                NaN                 (84, 25)  \n",
       "2               NaN                NaN                      NaN  \n",
       "3               NaN                NaN                 (75, 23)  \n",
       "4               NaN                NaN                 (70, 10)  \n",
       "\n",
       "[5 rows x 120 columns]"
      ]
     },
     "execution_count": 4,
     "metadata": {},
     "output_type": "execute_result"
    }
   ],
   "source": [
    "cand.head()"
   ]
  },
  {
   "cell_type": "code",
   "execution_count": 5,
   "id": "indie-response",
   "metadata": {},
   "outputs": [
    {
     "data": {
      "text/html": [
       "<div>\n",
       "<style scoped>\n",
       "    .dataframe tbody tr th:only-of-type {\n",
       "        vertical-align: middle;\n",
       "    }\n",
       "\n",
       "    .dataframe tbody tr th {\n",
       "        vertical-align: top;\n",
       "    }\n",
       "\n",
       "    .dataframe thead th {\n",
       "        text-align: right;\n",
       "    }\n",
       "</style>\n",
       "<table border=\"1\" class=\"dataframe\">\n",
       "  <thead>\n",
       "    <tr style=\"text-align: right;\">\n",
       "      <th></th>\n",
       "      <th>Internal ID</th>\n",
       "      <th>Q12: MEDIA [Daily Dish]</th>\n",
       "      <th>Q12: MEDIA [Science]</th>\n",
       "      <th>Q12: MEDIA [ESPN]</th>\n",
       "      <th>Q12: MEDIA [Yahoo]</th>\n",
       "    </tr>\n",
       "  </thead>\n",
       "  <tbody>\n",
       "    <tr>\n",
       "      <th>count</th>\n",
       "      <td>2.460000e+03</td>\n",
       "      <td>85.0</td>\n",
       "      <td>1362.0</td>\n",
       "      <td>99.0</td>\n",
       "      <td>67.0</td>\n",
       "    </tr>\n",
       "    <tr>\n",
       "      <th>mean</th>\n",
       "      <td>9.028016e+07</td>\n",
       "      <td>1.0</td>\n",
       "      <td>1.0</td>\n",
       "      <td>1.0</td>\n",
       "      <td>1.0</td>\n",
       "    </tr>\n",
       "    <tr>\n",
       "      <th>std</th>\n",
       "      <td>7.435532e+03</td>\n",
       "      <td>0.0</td>\n",
       "      <td>0.0</td>\n",
       "      <td>0.0</td>\n",
       "      <td>0.0</td>\n",
       "    </tr>\n",
       "    <tr>\n",
       "      <th>min</th>\n",
       "      <td>9.025877e+07</td>\n",
       "      <td>1.0</td>\n",
       "      <td>1.0</td>\n",
       "      <td>1.0</td>\n",
       "      <td>1.0</td>\n",
       "    </tr>\n",
       "    <tr>\n",
       "      <th>25%</th>\n",
       "      <td>9.027520e+07</td>\n",
       "      <td>1.0</td>\n",
       "      <td>1.0</td>\n",
       "      <td>1.0</td>\n",
       "      <td>1.0</td>\n",
       "    </tr>\n",
       "    <tr>\n",
       "      <th>50%</th>\n",
       "      <td>9.027780e+07</td>\n",
       "      <td>1.0</td>\n",
       "      <td>1.0</td>\n",
       "      <td>1.0</td>\n",
       "      <td>1.0</td>\n",
       "    </tr>\n",
       "    <tr>\n",
       "      <th>75%</th>\n",
       "      <td>9.028242e+07</td>\n",
       "      <td>1.0</td>\n",
       "      <td>1.0</td>\n",
       "      <td>1.0</td>\n",
       "      <td>1.0</td>\n",
       "    </tr>\n",
       "    <tr>\n",
       "      <th>max</th>\n",
       "      <td>9.031480e+07</td>\n",
       "      <td>1.0</td>\n",
       "      <td>1.0</td>\n",
       "      <td>1.0</td>\n",
       "      <td>1.0</td>\n",
       "    </tr>\n",
       "  </tbody>\n",
       "</table>\n",
       "</div>"
      ],
      "text/plain": [
       "        Internal ID  Q12: MEDIA [Daily Dish]  Q12: MEDIA [Science]  \\\n",
       "count  2.460000e+03                     85.0                1362.0   \n",
       "mean   9.028016e+07                      1.0                   1.0   \n",
       "std    7.435532e+03                      0.0                   0.0   \n",
       "min    9.025877e+07                      1.0                   1.0   \n",
       "25%    9.027520e+07                      1.0                   1.0   \n",
       "50%    9.027780e+07                      1.0                   1.0   \n",
       "75%    9.028242e+07                      1.0                   1.0   \n",
       "max    9.031480e+07                      1.0                   1.0   \n",
       "\n",
       "       Q12: MEDIA [ESPN]  Q12: MEDIA [Yahoo]  \n",
       "count               99.0                67.0  \n",
       "mean                 1.0                 1.0  \n",
       "std                  0.0                 0.0  \n",
       "min                  1.0                 1.0  \n",
       "25%                  1.0                 1.0  \n",
       "50%                  1.0                 1.0  \n",
       "75%                  1.0                 1.0  \n",
       "max                  1.0                 1.0  "
      ]
     },
     "execution_count": 5,
     "metadata": {},
     "output_type": "execute_result"
    }
   ],
   "source": [
    "cand.describe()"
   ]
  },
  {
   "cell_type": "code",
   "execution_count": 6,
   "id": "assumed-newton",
   "metadata": {},
   "outputs": [
    {
     "data": {
      "text/plain": [
       "Index(['Internal ID', 'Q1: GOING OUT?', 'Q2: GENDER', 'Q3: AGE', 'Q4: COUNTRY',\n",
       "       'Q5: STATE, PROVINCE, COUNTY, ETC', 'Q6 | 100 Grand Bar',\n",
       "       'Q6 | Anonymous brown globs that come in black and orange wrappers\\t(a.k.a. Mary Janes)',\n",
       "       'Q6 | Any full-sized candy bar', 'Q6 | Black Jacks',\n",
       "       ...\n",
       "       'Q8: DESPAIR OTHER', 'Q9: OTHER COMMENTS', 'Q10: DRESS', 'Unnamed: 113',\n",
       "       'Q11: DAY', 'Q12: MEDIA [Daily Dish]', 'Q12: MEDIA [Science]',\n",
       "       'Q12: MEDIA [ESPN]', 'Q12: MEDIA [Yahoo]', 'Click Coordinates (x, y)'],\n",
       "      dtype='object', length=120)"
      ]
     },
     "execution_count": 6,
     "metadata": {},
     "output_type": "execute_result"
    }
   ],
   "source": [
    "cand.columns"
   ]
  },
  {
   "cell_type": "code",
   "execution_count": 7,
   "id": "satellite-hollow",
   "metadata": {},
   "outputs": [
    {
     "data": {
      "text/plain": [
       "744"
      ]
     },
     "execution_count": 7,
     "metadata": {},
     "output_type": "execute_result"
    }
   ],
   "source": [
    "cand['Q10: DRESS'].isna().sum()"
   ]
  },
  {
   "cell_type": "code",
   "execution_count": 8,
   "id": "designed-western",
   "metadata": {},
   "outputs": [
    {
     "data": {
      "text/plain": [
       "725"
      ]
     },
     "execution_count": 8,
     "metadata": {},
     "output_type": "execute_result"
    }
   ],
   "source": [
    "cand['Q11: DAY'].isna().sum()"
   ]
  },
  {
   "cell_type": "code",
   "execution_count": 9,
   "id": "aboriginal-penguin",
   "metadata": {},
   "outputs": [
    {
     "data": {
      "text/plain": [
       "<matplotlib.axes._subplots.AxesSubplot at 0x1e059b7c828>"
      ]
     },
     "execution_count": 9,
     "metadata": {},
     "output_type": "execute_result"
    },
    {
     "data": {
      "image/png": "[encoded data removed]",
      "text/plain": [
       "<Figure size 432x288 with 1 Axes>"
      ]
     },
     "metadata": {
      "needs_background": "light"
     },
     "output_type": "display_data"
    }
   ],
   "source": [
    "sns.countplot(cand['Q11: DAY'])"
   ]
  },
  {
   "cell_type": "code",
   "execution_count": 10,
   "id": "prime-cruise",
   "metadata": {},
   "outputs": [
    {
     "data": {
      "text/plain": [
       "<matplotlib.axes._subplots.AxesSubplot at 0x1e05ae4b860>"
      ]
     },
     "execution_count": 10,
     "metadata": {},
     "output_type": "execute_result"
    },
    {
     "data": {
      "image/png": "[encoded data removed]",
      "text/plain": [
       "<Figure size 432x288 with 1 Axes>"
      ]
     },
     "metadata": {
      "needs_background": "light"
     },
     "output_type": "display_data"
    }
   ],
   "source": [
    "sns.countplot(cand['Q10: DRESS'])"
   ]
  },
  {
   "cell_type": "markdown",
   "id": "affiliated-spotlight",
   "metadata": {},
   "source": [
    "###### Most of columns are objects except these 5 columns"
   ]
  },
  {
   "cell_type": "code",
   "execution_count": 11,
   "id": "representative-humor",
   "metadata": {},
   "outputs": [
    {
     "data": {
      "text/plain": [
       "(2460, 120)"
      ]
     },
     "execution_count": 11,
     "metadata": {},
     "output_type": "execute_result"
    }
   ],
   "source": [
    "cand.shape"
   ]
  },
  {
   "cell_type": "code",
   "execution_count": 12,
   "id": "paperback-elite",
   "metadata": {},
   "outputs": [
    {
     "data": {
      "text/plain": [
       "0"
      ]
     },
     "execution_count": 12,
     "metadata": {},
     "output_type": "execute_result"
    }
   ],
   "source": [
    "cand.T.duplicated().sum()"
   ]
  },
  {
   "cell_type": "code",
   "execution_count": 13,
   "id": "enclosed-wednesday",
   "metadata": {},
   "outputs": [
    {
     "data": {
      "text/plain": [
       "0"
      ]
     },
     "execution_count": 13,
     "metadata": {},
     "output_type": "execute_result"
    }
   ],
   "source": [
    "cand.duplicated().sum()"
   ]
  },
  {
   "cell_type": "markdown",
   "id": "parliamentary-netherlands",
   "metadata": {},
   "source": [
    "No Duplication in rows or columns"
   ]
  },
  {
   "cell_type": "code",
   "execution_count": 14,
   "id": "fiscal-blocking",
   "metadata": {},
   "outputs": [
    {
     "data": {
      "text/plain": [
       "Unnamed: 113                                                                   2451\n",
       "Q12: MEDIA [Yahoo]                                                             2393\n",
       "Q12: MEDIA [Daily Dish]                                                        2375\n",
       "Q12: MEDIA [ESPN]                                                              2361\n",
       "Q9: OTHER COMMENTS                                                             2074\n",
       "Q8: DESPAIR OTHER                                                              1743\n",
       "Q7: JOY OTHER                                                                  1549\n",
       "Q12: MEDIA [Science]                                                           1098\n",
       "Q6 | JoyJoy (Mit Iodine!)                                                      1026\n",
       "Q6 | Maynards                                                                  1024\n",
       "Q6 | Reggie Jackson Bar                                                        1014\n",
       "Q6 | Bonkers (the board game)                                                  1006\n",
       "Q6 | Sweetums (a friend to diabetes)                                           1002\n",
       "Q6 | Bonkers (the candy)                                                        992\n",
       "Q6 | Black Jacks                                                                958\n",
       "Q6 | Chick-o-Sticks (we donÕt know what that is)                                946\n",
       "Q6 | Kinder Happy Hippo                                                         945\n",
       "Q6 | Abstained from M&M'ing.                                                    942\n",
       "Q6 | Senior Mints                                                               942\n",
       "Q6 | Take 5                                                                     917\n",
       "Q6 | Smarties (Commonwealth)                                                    901\n",
       "Q6 | Spotted Dick                                                               882\n",
       "Q6 | Goo Goo Clusters                                                           879\n",
       "Click Coordinates (x, y)                                                        855\n",
       "Q6 | Coffee Crisp                                                               853\n",
       "Q6 | Fuzzy Peaches                                                              823\n",
       "Q6 | Whatchamacallit Bars                                                       823\n",
       "Q6 | Now'n'Laters                                                               817\n",
       "Q6 | Independent M&M's                                                          813\n",
       "Q6 | Mint Juleps                                                                811\n",
       "                                                                               ... \n",
       "Q6 | Milk Duds                                                                  693\n",
       "Q6 | Starburst                                                                  693\n",
       "Q6 | Dental paraphenalia                                                        692\n",
       "Q6 | Candy that is clearly just the stuff given out for free at restaurants     691\n",
       "Q6 | Reese's Pieces                                                             691\n",
       "Q6 | Lollipops                                                                  691\n",
       "Q6 | Twix                                                                       690\n",
       "Q6 | Snickers                                                                   690\n",
       "Q6 | Milky Way                                                                  688\n",
       "Q6 | Box'o'Raisins                                                              688\n",
       "Q6 | Licorice (not black)                                                       686\n",
       "Q6 | Licorice (yes black)                                                       685\n",
       "Q6 | Cadbury Creme Eggs                                                         683\n",
       "Q6 | Butterfinger                                                               682\n",
       "Q6 | Cash, or other forms of legal tender                                       680\n",
       "Q6 | ReeseÕs Peanut Butter Cups                                                 679\n",
       "Q6 | Hershey's Kisses                                                           678\n",
       "Q6 | Candy Corn                                                                 678\n",
       "Q6 | Regular M&Ms                                                               675\n",
       "Q6 | Kit Kat                                                                    674\n",
       "Q6 | Hershey's Dark Chocolate                                                   673\n",
       "Q6 | Any full-sized candy bar                                                   672\n",
       "Q6 | HersheyÕs Milk Chocolate                                                   672\n",
       "Q6 | Peanut M&MÕs                                                               671\n",
       "Q1: GOING OUT?                                                                  110\n",
       "Q5: STATE, PROVINCE, COUNTY, ETC                                                100\n",
       "Q3: AGE                                                                          84\n",
       "Q4: COUNTRY                                                                      64\n",
       "Q2: GENDER                                                                       41\n",
       "Internal ID                                                                       0\n",
       "Length: 120, dtype: int64"
      ]
     },
     "execution_count": 14,
     "metadata": {},
     "output_type": "execute_result"
    }
   ],
   "source": [
    "cand.isna().sum().sort_values(ascending=False)"
   ]
  },
  {
   "cell_type": "code",
   "execution_count": 15,
   "id": "surprising-harrison",
   "metadata": {},
   "outputs": [],
   "source": [
    "cand=cand.iloc[:,1:6]"
   ]
  },
  {
   "cell_type": "code",
   "execution_count": 16,
   "id": "thorough-paris",
   "metadata": {},
   "outputs": [
    {
     "data": {
      "text/html": [
       "<div>\n",
       "<style scoped>\n",
       "    .dataframe tbody tr th:only-of-type {\n",
       "        vertical-align: middle;\n",
       "    }\n",
       "\n",
       "    .dataframe tbody tr th {\n",
       "        vertical-align: top;\n",
       "    }\n",
       "\n",
       "    .dataframe thead th {\n",
       "        text-align: right;\n",
       "    }\n",
       "</style>\n",
       "<table border=\"1\" class=\"dataframe\">\n",
       "  <thead>\n",
       "    <tr style=\"text-align: right;\">\n",
       "      <th></th>\n",
       "      <th>Q1: GOING OUT?</th>\n",
       "      <th>Q2: GENDER</th>\n",
       "      <th>Q3: AGE</th>\n",
       "      <th>Q4: COUNTRY</th>\n",
       "      <th>Q5: STATE, PROVINCE, COUNTY, ETC</th>\n",
       "    </tr>\n",
       "  </thead>\n",
       "  <tbody>\n",
       "    <tr>\n",
       "      <th>0</th>\n",
       "      <td>NaN</td>\n",
       "      <td>NaN</td>\n",
       "      <td>NaN</td>\n",
       "      <td>NaN</td>\n",
       "      <td>NaN</td>\n",
       "    </tr>\n",
       "    <tr>\n",
       "      <th>1</th>\n",
       "      <td>No</td>\n",
       "      <td>Male</td>\n",
       "      <td>44</td>\n",
       "      <td>USA</td>\n",
       "      <td>NM</td>\n",
       "    </tr>\n",
       "    <tr>\n",
       "      <th>2</th>\n",
       "      <td>NaN</td>\n",
       "      <td>Male</td>\n",
       "      <td>49</td>\n",
       "      <td>USA</td>\n",
       "      <td>Virginia</td>\n",
       "    </tr>\n",
       "    <tr>\n",
       "      <th>3</th>\n",
       "      <td>No</td>\n",
       "      <td>Male</td>\n",
       "      <td>40</td>\n",
       "      <td>us</td>\n",
       "      <td>or</td>\n",
       "    </tr>\n",
       "    <tr>\n",
       "      <th>4</th>\n",
       "      <td>No</td>\n",
       "      <td>Male</td>\n",
       "      <td>23</td>\n",
       "      <td>usa</td>\n",
       "      <td>exton pa</td>\n",
       "    </tr>\n",
       "  </tbody>\n",
       "</table>\n",
       "</div>"
      ],
      "text/plain": [
       "  Q1: GOING OUT? Q2: GENDER Q3: AGE Q4: COUNTRY  \\\n",
       "0            NaN        NaN     NaN         NaN   \n",
       "1             No       Male      44        USA    \n",
       "2            NaN       Male      49         USA   \n",
       "3             No       Male      40          us   \n",
       "4             No       Male      23         usa   \n",
       "\n",
       "  Q5: STATE, PROVINCE, COUNTY, ETC  \n",
       "0                              NaN  \n",
       "1                               NM  \n",
       "2                         Virginia  \n",
       "3                               or  \n",
       "4                         exton pa  "
      ]
     },
     "execution_count": 16,
     "metadata": {},
     "output_type": "execute_result"
    }
   ],
   "source": [
    "cand.head()"
   ]
  },
  {
   "cell_type": "code",
   "execution_count": 17,
   "id": "correct-marine",
   "metadata": {},
   "outputs": [],
   "source": [
    "Null_rows=cand.T.isna().sum().sort_values(ascending=False)"
   ]
  },
  {
   "cell_type": "code",
   "execution_count": 18,
   "id": "noted-polish",
   "metadata": {},
   "outputs": [],
   "source": [
    "Null_rows=Null_rows.loc[Null_rows>2]"
   ]
  },
  {
   "cell_type": "code",
   "execution_count": 19,
   "id": "congressional-disease",
   "metadata": {},
   "outputs": [
    {
     "data": {
      "text/plain": [
       "Int64Index([   0, 1295,  693, 2352,  100, 1095, 1273, 1076, 2316,  546,  734,\n",
       "            2431, 1895, 1345, 1004, 1599, 1972,  931,  838, 1510,   36,  187,\n",
       "            2048,  644, 2440, 1706,  704,  708, 2450, 1014, 1193, 1161,  845,\n",
       "             904,  149, 2379, 2377,  869, 2358,  855,  566,  352,  114,  121,\n",
       "            1870, 1650, 1452,  350, 1900, 1907, 1798,  760, 1388, 1609,    5,\n",
       "            1487, 1977,  601,  759,  656],\n",
       "           dtype='int64')"
      ]
     },
     "execution_count": 19,
     "metadata": {},
     "output_type": "execute_result"
    }
   ],
   "source": [
    "Null_rows.index"
   ]
  },
  {
   "cell_type": "code",
   "execution_count": 20,
   "id": "previous-suspension",
   "metadata": {},
   "outputs": [],
   "source": [
    "cand=cand.drop(Null_rows.index,axis=0)"
   ]
  },
  {
   "cell_type": "markdown",
   "id": "alive-month",
   "metadata": {},
   "source": [
    "#### checking  max of missing values in row again"
   ]
  },
  {
   "cell_type": "code",
   "execution_count": 21,
   "id": "foreign-feeling",
   "metadata": {},
   "outputs": [
    {
     "data": {
      "text/plain": [
       "2"
      ]
     },
     "execution_count": 21,
     "metadata": {},
     "output_type": "execute_result"
    }
   ],
   "source": [
    "max(cand.T.isna().sum())"
   ]
  },
  {
   "cell_type": "code",
   "execution_count": 22,
   "id": "passing-inspector",
   "metadata": {},
   "outputs": [
    {
     "data": {
      "text/plain": [
       "USA                          699\n",
       "United States                495\n",
       "usa                          217\n",
       "Canada                       179\n",
       "Usa                          139\n",
       "US                           126\n",
       "USA                           73\n",
       "United States of America      57\n",
       "us                            40\n",
       "united states                 38\n",
       "United States                 37\n",
       "canada                        34\n",
       "United states                 19\n",
       "Us                            16\n",
       "United Kingdom                13\n",
       "UK                            13\n",
       "United States of America      11\n",
       "U.S.                           8\n",
       "Canada                         8\n",
       "U.S.A.                         7\n",
       "Germany                        7\n",
       "Netherlands                    6\n",
       "united states of america       5\n",
       "Australia                      5\n",
       "Japan                          5\n",
       "Unites States                  4\n",
       "Scotland                       4\n",
       "US of A                        4\n",
       "Mexico                         4\n",
       "america                        4\n",
       "                            ... \n",
       "'merica                        1\n",
       "32                             1\n",
       "Scotland                       1\n",
       "USSA                           1\n",
       "Usa                            1\n",
       "Murica                         1\n",
       "U.K.                           1\n",
       "Ireland                        1\n",
       "Korea                          1\n",
       "Earth                          1\n",
       "United ststes                  1\n",
       "Indonesia                      1\n",
       "1                              1\n",
       "unite states                   1\n",
       "Hong Kong                      1\n",
       "South africa                   1\n",
       "insanity lately                1\n",
       "USA! USA! USA!                 1\n",
       "United Sates                   1\n",
       "Alaska                         1\n",
       "USAUSAUSA                      1\n",
       "Europe                         1\n",
       "Costa Rica                     1\n",
       "I don't know anymore           1\n",
       "United kingdom                 1\n",
       "canada                         1\n",
       "UK                             1\n",
       "murrika                        1\n",
       "U.S.                           1\n",
       "New Jersey                     1\n",
       "Name: Q4: COUNTRY, Length: 128, dtype: int64"
      ]
     },
     "execution_count": 22,
     "metadata": {},
     "output_type": "execute_result"
    }
   ],
   "source": [
    "cand['Q4: COUNTRY'].value_counts()"
   ]
  },
  {
   "cell_type": "code",
   "execution_count": 23,
   "id": "introductory-mystery",
   "metadata": {},
   "outputs": [],
   "source": [
    "cand['Q4: COUNTRY'] = cand['Q4: COUNTRY'].str.lower()"
   ]
  },
  {
   "cell_type": "code",
   "execution_count": 24,
   "id": "narrative-ireland",
   "metadata": {
    "scrolled": false
   },
   "outputs": [
    {
     "data": {
      "text/plain": [
       "usa                                                                     1056\n",
       "united states                                                            552\n",
       "canada                                                                   215\n",
       "us                                                                       182\n",
       "usa                                                                       74\n",
       "united states of america                                                  62\n",
       "united states                                                             38\n",
       "uk                                                                        17\n",
       "united kingdom                                                            14\n",
       "united states of america                                                  11\n",
       "u.s.                                                                      11\n",
       "germany                                                                   10\n",
       "canada                                                                     9\n",
       "u.s.a.                                                                     8\n",
       "australia                                                                  7\n",
       "america                                                                    6\n",
       "netherlands                                                                6\n",
       "japan                                                                      5\n",
       "unites states                                                              4\n",
       "mexico                                                                     4\n",
       "scotland                                                                   4\n",
       "us of a                                                                    4\n",
       "switzerland                                                                3\n",
       "ireland                                                                    3\n",
       "united stated                                                              2\n",
       "china                                                                      2\n",
       "france                                                                     2\n",
       "united ststes                                                              2\n",
       "denmark                                                                    2\n",
       "sweden                                                                     2\n",
       "                                                                        ... \n",
       "'merica                                                                    1\n",
       "taiwan                                                                     1\n",
       "iceland                                                                    1\n",
       "greece                                                                     1\n",
       "1                                                                          1\n",
       "new york                                                                   1\n",
       "costa rica                                                                 1\n",
       "united sates                                                               1\n",
       "uae                                                                        1\n",
       "united statss                                                              1\n",
       "canae                                                                      1\n",
       "pittsburgh                                                                 1\n",
       "32                                                                         1\n",
       "indonesia                                                                  1\n",
       "u.s.                                                                       1\n",
       "united statea                                                              1\n",
       "trumpistan                                                                 1\n",
       "u s                                                                        1\n",
       "unied states                                                               1\n",
       "ud                                                                         1\n",
       "the united states of america                                               1\n",
       "france                                                                     1\n",
       "u.k.                                                                       1\n",
       "atlantis                                                                   1\n",
       "endland                                                                    1\n",
       "narnia                                                                     1\n",
       "europe                                                                     1\n",
       "i pretend to be from canada, but i am really from the united states.       1\n",
       "california                                                                 1\n",
       "n. america                                                                 1\n",
       "Name: Q4: COUNTRY, Length: 104, dtype: int64"
      ]
     },
     "execution_count": 24,
     "metadata": {},
     "output_type": "execute_result"
    }
   ],
   "source": [
    "cand['Q4: COUNTRY'].value_counts()"
   ]
  },
  {
   "cell_type": "code",
   "execution_count": 25,
   "id": "bulgarian-compression",
   "metadata": {},
   "outputs": [],
   "source": [
    "mapping={'new york':'usa','n. america':'usa','ahem....amerca':'usa',\"'merica\":'usa','u s':'usa',\n",
    "        'new jersey':'usa','usausausa':'usa','alaska':'usa','a':'usa','ussa':'usa','i pretend to be from canada, but i am really from the united states.':'usa',\n",
    "        'united states':'usa','u.s.':'usa','united state':'usa','us of a':'usa','unites states':'usa','america':'usa',\n",
    "        'u.s.a.':'usa','u.s.':'usa','united states of america':'usa','united states':'usa','us':'usa','usa ':'usa','united states of america':'usa'\n",
    "        ,\"usa! usa! usa!\" :'usa','united states ':'usa','united states of america ':'usa','united stated':'usa',\n",
    "        'the united states':'usa','united ststes':'usa','united statea':'usa','u s a':'usa','california':'usa',\n",
    "        'u s a ':'usa','unied states':'usa','united sates':'usa','murica':'usa','usa usa usa!!!!':'usa','unite states':'usa','u s a':'usa','murrika':'usa'\n",
    "        ,'canada ':'canada','united kingdom':'uk','u.k.':'uk','uk ':'uk','england':'uk','endland':'uk','united statss':'usa',\n",
    "        'united staes':'usa','united statss':'usa','canae':'canada','u.s. ':'usa','united statss':'usa','united statss':'usa','u.k. ':\n",
    "         'uk','unhinged states':'usa','canada`':'canada','usa? hard to tell anymore..':'usa','can':'canada','usaa':'usa','trumpistan':'usa',\n",
    "         'narnia':'usa',\"the united states of america\":'usa','ud':'uk'\n",
    "        }"
   ]
  },
  {
   "cell_type": "code",
   "execution_count": 26,
   "id": "radical-cassette",
   "metadata": {},
   "outputs": [],
   "source": [
    "cand['Q4: COUNTRY'] = cand['Q4: COUNTRY'].replace(mapping)"
   ]
  },
  {
   "cell_type": "code",
   "execution_count": 27,
   "id": "muslim-oasis",
   "metadata": {
    "scrolled": true
   },
   "outputs": [
    {
     "data": {
      "text/plain": [
       "usa                               2046\n",
       "canada                             227\n",
       "uk                                  36\n",
       "germany                             10\n",
       "australia                            7\n",
       "netherlands                          6\n",
       "japan                                5\n",
       "scotland                             4\n",
       "mexico                               4\n",
       "ireland                              3\n",
       "switzerland                          3\n",
       "france                               2\n",
       "denmark                              2\n",
       "china                                2\n",
       "hong kong                            2\n",
       "sweden                               2\n",
       "usas                                 1\n",
       "finland                              1\n",
       "35                                   1\n",
       "scotland                             1\n",
       "spain                                1\n",
       "the netherlands                      1\n",
       "32                                   1\n",
       "uae                                  1\n",
       "south africa                         1\n",
       "korea                                1\n",
       "cascadia                             1\n",
       "singapore                            1\n",
       "north carolina                       1\n",
       "taiwan                               1\n",
       "iceland                              1\n",
       "ireland                              1\n",
       "subscribe to dm4uz3 on youtube       1\n",
       "south korea                          1\n",
       "45                                   1\n",
       "earth                                1\n",
       "insanity lately                      1\n",
       "46                                   1\n",
       "fear and loathing                    1\n",
       "indonesia                            1\n",
       "greece                               1\n",
       "costa rica                           1\n",
       "france                               1\n",
       "atlantis                             1\n",
       "soviet canuckistan                   1\n",
       "europe                               1\n",
       "i don't know anymore                 1\n",
       "pittsburgh                           1\n",
       "1                                    1\n",
       "Name: Q4: COUNTRY, dtype: int64"
      ]
     },
     "execution_count": 27,
     "metadata": {},
     "output_type": "execute_result"
    }
   ],
   "source": [
    "cand['Q4: COUNTRY'].value_counts()"
   ]
  },
  {
   "cell_type": "code",
   "execution_count": 28,
   "id": "defensive-solution",
   "metadata": {},
   "outputs": [],
   "source": [
    "corr=['46','45','32','35']\n",
    "for i in corr :\n",
    "    cand.loc[cand['Q4: COUNTRY']==i,'Q3: AGE']=int(i)\n",
    "    cand.loc[cand['Q4: COUNTRY']==i,'Q4: COUNTRY']='usa'\n"
   ]
  },
  {
   "cell_type": "code",
   "execution_count": 29,
   "id": "stylish-black",
   "metadata": {},
   "outputs": [],
   "source": [
    "cand.loc[cand['Q4: COUNTRY']==\"north carolina \",'Q4: COUNTRY']='usa'\n",
    "cand.loc[cand['Q4: COUNTRY']==\"north carolina \",'Q5: STATE, PROVINCE, COUNTY, ETC']='north carolina'"
   ]
  },
  {
   "cell_type": "code",
   "execution_count": 30,
   "id": "behavioral-vault",
   "metadata": {},
   "outputs": [],
   "source": [
    "drop=[2214,2212,638,2413,2376]\n",
    "cand.drop(drop,axis=0,inplace=True)"
   ]
  },
  {
   "cell_type": "code",
   "execution_count": 31,
   "id": "painful-finish",
   "metadata": {},
   "outputs": [
    {
     "data": {
      "text/plain": [
       "array(['44', '49', '40', '23', '53', '33', '43', '56', '64', '37', '59',\n",
       "       '48', '54', '36', '45', '25', '34', '35', '38', '58', '50', '47',\n",
       "       '16', '52', '63', '65', '41', '27', '31', '61', '46', '42', '62',\n",
       "       '29', '39', '32', '28', '69', '67', '30', '22', '26', '51', '70',\n",
       "       '24', '18', 35, '19', 'Old enough', '57', '60', '66', '12', 'Many',\n",
       "       '55', '72', '?', '21', '11', 'no', '9', '68', '20', nan, '6', '10',\n",
       "       '71', '90', '13', '45-55', '312', 46, '99', '7', '88', 45, '39.4',\n",
       "       '74', 32, '102', 'older than dirt', '17', '15', '8', '75', '5u',\n",
       "       'Enough', 'See question 2', '24-50', '14', 'Over 50', '100', '76',\n",
       "       '1000', 'sixty-nine', '46 Halloweens.', 'ancient', '77', 'OLD',\n",
       "       'old', '73', '70 1/2', '4', '59 on the day after Halloween',\n",
       "       'old enough', 'your mom', '60+'], dtype=object)"
      ]
     },
     "execution_count": 31,
     "metadata": {},
     "output_type": "execute_result"
    }
   ],
   "source": [
    "cand['Q3: AGE'].unique()"
   ]
  },
  {
   "cell_type": "code",
   "execution_count": 32,
   "id": "breeding-bracket",
   "metadata": {},
   "outputs": [
    {
     "data": {
      "text/html": [
       "<div>\n",
       "<style scoped>\n",
       "    .dataframe tbody tr th:only-of-type {\n",
       "        vertical-align: middle;\n",
       "    }\n",
       "\n",
       "    .dataframe tbody tr th {\n",
       "        vertical-align: top;\n",
       "    }\n",
       "\n",
       "    .dataframe thead th {\n",
       "        text-align: right;\n",
       "    }\n",
       "</style>\n",
       "<table border=\"1\" class=\"dataframe\">\n",
       "  <thead>\n",
       "    <tr style=\"text-align: right;\">\n",
       "      <th></th>\n",
       "      <th>Q1: GOING OUT?</th>\n",
       "      <th>Q2: GENDER</th>\n",
       "      <th>Q3: AGE</th>\n",
       "      <th>Q4: COUNTRY</th>\n",
       "      <th>Q5: STATE, PROVINCE, COUNTY, ETC</th>\n",
       "    </tr>\n",
       "  </thead>\n",
       "  <tbody>\n",
       "    <tr>\n",
       "      <th>902</th>\n",
       "      <td>No</td>\n",
       "      <td>Female</td>\n",
       "      <td>older than dirt</td>\n",
       "      <td>usa</td>\n",
       "      <td>PA</td>\n",
       "    </tr>\n",
       "  </tbody>\n",
       "</table>\n",
       "</div>"
      ],
      "text/plain": [
       "    Q1: GOING OUT? Q2: GENDER          Q3: AGE Q4: COUNTRY  \\\n",
       "902             No     Female  older than dirt         usa   \n",
       "\n",
       "    Q5: STATE, PROVINCE, COUNTY, ETC  \n",
       "902                               PA  "
      ]
     },
     "execution_count": 32,
     "metadata": {},
     "output_type": "execute_result"
    }
   ],
   "source": [
    "cand.loc[cand['Q3: AGE']=='older than dirt']"
   ]
  },
  {
   "cell_type": "code",
   "execution_count": 33,
   "id": "innocent-project",
   "metadata": {},
   "outputs": [],
   "source": [
    "age_map={'Old enough':'0','Over 50':'0','OLD':'0','59 on the day after Halloween':'0','60+':'0','your mom':'0'\n",
    "        ,'old':'0','See question 2':'0','Enough':'0','1000':'0','46 Halloweens.':'46','Many':'0','24-50':'0','sixty-nine':'69'\n",
    "        ,'5u':'0','312':'0','old enough':'0','ancient':'0','45-55':'0','older than dirt':'0',np.nan:'0','no':'0','?':'0'\n",
    "        ,'70 1/2':'0','39.4':'39'}"
   ]
  },
  {
   "cell_type": "code",
   "execution_count": 34,
   "id": "manufactured-color",
   "metadata": {},
   "outputs": [],
   "source": [
    "cand['Q3: AGE'] = cand['Q3: AGE'].replace(age_map)"
   ]
  },
  {
   "cell_type": "code",
   "execution_count": 35,
   "id": "differential-editor",
   "metadata": {},
   "outputs": [],
   "source": [
    "cand['Q3: AGE'].fillna(\"0\", inplace=True)\n",
    "cand['Q2: GENDER'].fillna(\"I'd rather not say\", inplace=True)"
   ]
  },
  {
   "cell_type": "code",
   "execution_count": 36,
   "id": "enclosed-polymer",
   "metadata": {},
   "outputs": [],
   "source": [
    "cand['Q3: AGE']=cand['Q3: AGE'].astype('float64')"
   ]
  },
  {
   "cell_type": "markdown",
   "id": "affiliated-greene",
   "metadata": {},
   "source": [
    "#### zero means prefere not to say"
   ]
  },
  {
   "cell_type": "code",
   "execution_count": 37,
   "id": "graduate-fraud",
   "metadata": {},
   "outputs": [
    {
     "data": {
      "text/plain": [
       "array(['Male', 'Female', \"I'd rather not say\", 'Other'], dtype=object)"
      ]
     },
     "execution_count": 37,
     "metadata": {},
     "output_type": "execute_result"
    }
   ],
   "source": [
    "cand['Q2: GENDER'].unique()"
   ]
  },
  {
   "cell_type": "code",
   "execution_count": 38,
   "id": "lasting-purse",
   "metadata": {},
   "outputs": [],
   "source": [
    "cand['Q4: COUNTRY'].fillna('usa', inplace=True)"
   ]
  },
  {
   "cell_type": "code",
   "execution_count": 39,
   "id": "compliant-integer",
   "metadata": {},
   "outputs": [
    {
     "data": {
      "text/plain": [
       "Q1: GOING OUT?                      83\n",
       "Q2: GENDER                           0\n",
       "Q3: AGE                              0\n",
       "Q4: COUNTRY                          0\n",
       "Q5: STATE, PROVINCE, COUNTY, ETC    41\n",
       "dtype: int64"
      ]
     },
     "execution_count": 39,
     "metadata": {},
     "output_type": "execute_result"
    }
   ],
   "source": [
    "cand.isna().sum()"
   ]
  },
  {
   "cell_type": "code",
   "execution_count": 41,
   "id": "dimensional-underwear",
   "metadata": {},
   "outputs": [
    {
     "data": {
      "text/plain": [
       "<matplotlib.axes._subplots.AxesSubplot at 0x1e05aecd358>"
      ]
     },
     "execution_count": 41,
     "metadata": {},
     "output_type": "execute_result"
    },
    {
     "data": {
      "image/png": "[encoded data removed]",
      "text/plain": [
       "<Figure size 432x288 with 1 Axes>"
      ]
     },
     "metadata": {
      "needs_background": "light"
     },
     "output_type": "display_data"
    }
   ],
   "source": [
    "sns.countplot(cand['Q2: GENDER'])"
   ]
  },
  {
   "cell_type": "code",
   "execution_count": 42,
   "id": "sweet-lexington",
   "metadata": {},
   "outputs": [
    {
     "data": {
      "text/plain": [
       "<matplotlib.axes._subplots.AxesSubplot at 0x1e05ae20b70>"
      ]
     },
     "execution_count": 42,
     "metadata": {},
     "output_type": "execute_result"
    },
    {
     "data": {
      "image/png": "[encoded data removed]",
      "text/plain": [
       "<Figure size 432x288 with 1 Axes>"
      ]
     },
     "metadata": {
      "needs_background": "light"
     },
     "output_type": "display_data"
    }
   ],
   "source": [
    "sns.countplot(cand['Q1: GOING OUT?'])"
   ]
  },
  {
   "cell_type": "code",
   "execution_count": 43,
   "id": "developed-arrest",
   "metadata": {},
   "outputs": [
    {
     "data": {
      "text/plain": [
       "<matplotlib.axes._subplots.AxesSubplot at 0x1e059bd9c18>"
      ]
     },
     "execution_count": 43,
     "metadata": {},
     "output_type": "execute_result"
    },
    {
     "data": {
      "image/png": "[encoded data removed]",
      "text/plain": [
       "<Figure size 432x288 with 1 Axes>"
      ]
     },
     "metadata": {
      "needs_background": "light"
     },
     "output_type": "display_data"
    }
   ],
   "source": [
    "sns.countplot(x=\"Q1: GOING OUT?\",data=cand,hue=\"Q2: GENDER\")"
   ]
  },
  {
   "cell_type": "code",
   "execution_count": 44,
   "id": "funky-stanley",
   "metadata": {},
   "outputs": [
    {
     "data": {
      "text/plain": [
       "Q1: GOING OUT?                      83\n",
       "Q2: GENDER                           0\n",
       "Q3: AGE                              0\n",
       "Q4: COUNTRY                          0\n",
       "Q5: STATE, PROVINCE, COUNTY, ETC    41\n",
       "dtype: int64"
      ]
     },
     "execution_count": 44,
     "metadata": {},
     "output_type": "execute_result"
    }
   ],
   "source": [
    "cand.isna().sum()"
   ]
  },
  {
   "cell_type": "code",
   "execution_count": 45,
   "id": "exciting-finance",
   "metadata": {},
   "outputs": [
    {
     "data": {
      "text/plain": [
       "83"
      ]
     },
     "execution_count": 45,
     "metadata": {},
     "output_type": "execute_result"
    }
   ],
   "source": [
    "cand['Q1: GOING OUT?'].isna().sum()"
   ]
  },
  {
   "cell_type": "code",
   "execution_count": 46,
   "id": "private-complement",
   "metadata": {},
   "outputs": [
    {
     "data": {
      "text/plain": [
       "Int64Index([   2,   44,   52,   63,   69,   75,   84,  110,  130,  134,  202,\n",
       "             230,  236,  243,  333,  355,  370,  372,  373,  390,  424,  463,\n",
       "             480,  504,  532,  598,  603,  612,  651,  730,  805,  823,  870,\n",
       "             875,  911,  954,  957, 1029, 1056, 1096, 1123, 1162, 1203, 1241,\n",
       "            1296, 1337, 1341, 1387, 1393, 1430, 1434, 1438, 1494, 1539, 1540,\n",
       "            1565, 1605, 1754, 1772, 1774, 1871, 1879, 1921, 1938, 1942, 1959,\n",
       "            1968, 1993, 2006, 2028, 2137, 2143, 2147, 2155, 2181, 2184, 2270,\n",
       "            2288, 2343, 2356, 2361, 2386, 2446],\n",
       "           dtype='int64')"
      ]
     },
     "execution_count": 46,
     "metadata": {},
     "output_type": "execute_result"
    }
   ],
   "source": [
    "cand.index[cand['Q1: GOING OUT?'].isna()==True ]\n"
   ]
  },
  {
   "cell_type": "code",
   "execution_count": 47,
   "id": "civilian-connectivity",
   "metadata": {},
   "outputs": [],
   "source": [
    "cand.drop(cand.index[cand['Q1: GOING OUT?'].isna()==True ],axis=0,inplace=True)\n"
   ]
  },
  {
   "cell_type": "code",
   "execution_count": 48,
   "id": "italian-index",
   "metadata": {},
   "outputs": [],
   "source": [
    "cand.drop(cand.index[cand['Q5: STATE, PROVINCE, COUNTY, ETC'].isna()==True ],axis=0,inplace=True)"
   ]
  },
  {
   "cell_type": "code",
   "execution_count": null,
   "id": "adverse-frame",
   "metadata": {},
   "outputs": [],
   "source": []
  },
  {
   "cell_type": "code",
   "execution_count": null,
   "id": "coastal-budget",
   "metadata": {},
   "outputs": [],
   "source": []
  }
 ],
 "metadata": {
  "kernelspec": {
   "display_name": "Python 3",
   "language": "python",
   "name": "python3"
  },
  "language_info": {
   "codemirror_mode": {
    "name": "ipython",
    "version": 3
   },
   "file_extension": ".py",
   "mimetype": "text/x-python",
   "name": "python",
   "nbconvert_exporter": "python",
   "pygments_lexer": "ipython3",
   "version": "3.7.3"
  }
 },
 "nbformat": 4,
 "nbformat_minor": 5
}
