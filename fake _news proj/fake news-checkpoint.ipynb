{
 "cells": [
  {
   "cell_type": "code",
   "execution_count": 97,
   "id": "backed-franklin",
   "metadata": {},
   "outputs": [],
   "source": [
    "import pandas as pd \n",
    "from sklearn.linear_model import LogisticRegression\n",
    "from sklearn.model_selection import train_test_split\n"
   ]
  },
  {
   "cell_type": "code",
   "execution_count": 77,
   "id": "hidden-middle",
   "metadata": {},
   "outputs": [],
   "source": [
    "data =pd.read_csv(r'D:\\AI\\ML\\train.csv')"
   ]
  },
  {
   "cell_type": "code",
   "execution_count": 78,
   "id": "naughty-producer",
   "metadata": {},
   "outputs": [],
   "source": [
    "\n",
    "y=data['label']\n",
    "X=data.drop('label',axis=1)\n",
    "X=X.drop('id',axis=1)"
   ]
  },
  {
   "cell_type": "code",
   "execution_count": 80,
   "id": "advanced-cricket",
   "metadata": {},
   "outputs": [
    {
     "data": {
      "text/html": [
       "<div>\n",
       "<style scoped>\n",
       "    .dataframe tbody tr th:only-of-type {\n",
       "        vertical-align: middle;\n",
       "    }\n",
       "\n",
       "    .dataframe tbody tr th {\n",
       "        vertical-align: top;\n",
       "    }\n",
       "\n",
       "    .dataframe thead th {\n",
       "        text-align: right;\n",
       "    }\n",
       "</style>\n",
       "<table border=\"1\" class=\"dataframe\">\n",
       "  <thead>\n",
       "    <tr style=\"text-align: right;\">\n",
       "      <th></th>\n",
       "      <th>title</th>\n",
       "      <th>author</th>\n",
       "      <th>text</th>\n",
       "    </tr>\n",
       "  </thead>\n",
       "  <tbody>\n",
       "    <tr>\n",
       "      <th>0</th>\n",
       "      <td>House Dem Aide: We Didn’t Even See Comey’s Let...</td>\n",
       "      <td>Darrell Lucus</td>\n",
       "      <td>House Dem Aide: We Didn’t Even See Comey’s Let...</td>\n",
       "    </tr>\n",
       "    <tr>\n",
       "      <th>1</th>\n",
       "      <td>FLYNN: Hillary Clinton, Big Woman on Campus - ...</td>\n",
       "      <td>Daniel J. Flynn</td>\n",
       "      <td>Ever get the feeling your life circles the rou...</td>\n",
       "    </tr>\n",
       "    <tr>\n",
       "      <th>2</th>\n",
       "      <td>Why the Truth Might Get You Fired</td>\n",
       "      <td>Consortiumnews.com</td>\n",
       "      <td>Why the Truth Might Get You Fired October 29, ...</td>\n",
       "    </tr>\n",
       "    <tr>\n",
       "      <th>3</th>\n",
       "      <td>15 Civilians Killed In Single US Airstrike Hav...</td>\n",
       "      <td>Jessica Purkiss</td>\n",
       "      <td>Videos 15 Civilians Killed In Single US Airstr...</td>\n",
       "    </tr>\n",
       "    <tr>\n",
       "      <th>4</th>\n",
       "      <td>Iranian woman jailed for fictional unpublished...</td>\n",
       "      <td>Howard Portnoy</td>\n",
       "      <td>Print \\nAn Iranian woman has been sentenced to...</td>\n",
       "    </tr>\n",
       "  </tbody>\n",
       "</table>\n",
       "</div>"
      ],
      "text/plain": [
       "                                               title              author  \\\n",
       "0  House Dem Aide: We Didn’t Even See Comey’s Let...       Darrell Lucus   \n",
       "1  FLYNN: Hillary Clinton, Big Woman on Campus - ...     Daniel J. Flynn   \n",
       "2                  Why the Truth Might Get You Fired  Consortiumnews.com   \n",
       "3  15 Civilians Killed In Single US Airstrike Hav...     Jessica Purkiss   \n",
       "4  Iranian woman jailed for fictional unpublished...      Howard Portnoy   \n",
       "\n",
       "                                                text  \n",
       "0  House Dem Aide: We Didn’t Even See Comey’s Let...  \n",
       "1  Ever get the feeling your life circles the rou...  \n",
       "2  Why the Truth Might Get You Fired October 29, ...  \n",
       "3  Videos 15 Civilians Killed In Single US Airstr...  \n",
       "4  Print \\nAn Iranian woman has been sentenced to...  "
      ]
     },
     "execution_count": 80,
     "metadata": {},
     "output_type": "execute_result"
    }
   ],
   "source": [
    "X.head()"
   ]
  },
  {
   "cell_type": "code",
   "execution_count": 90,
   "id": "realistic-emperor",
   "metadata": {},
   "outputs": [
    {
     "data": {
      "text/plain": [
       "title     0\n",
       "author    0\n",
       "text      0\n",
       "dtype: int64"
      ]
     },
     "execution_count": 90,
     "metadata": {},
     "output_type": "execute_result"
    }
   ],
   "source": [
    "X.isnull().sum()"
   ]
  },
  {
   "cell_type": "code",
   "execution_count": 89,
   "id": "narrative-haiti",
   "metadata": {},
   "outputs": [],
   "source": [
    "X.fillna(\" \",inplace=True)"
   ]
  },
  {
   "cell_type": "code",
   "execution_count": 91,
   "id": "inclusive-satin",
   "metadata": {},
   "outputs": [],
   "source": [
    "X['concat']=X.title + ' '+X.author"
   ]
  },
  {
   "cell_type": "code",
   "execution_count": 92,
   "id": "worse-columbia",
   "metadata": {},
   "outputs": [
    {
     "data": {
      "text/plain": [
       "0"
      ]
     },
     "execution_count": 92,
     "metadata": {},
     "output_type": "execute_result"
    }
   ],
   "source": [
    "X.concat.isnull().sum()"
   ]
  },
  {
   "cell_type": "code",
   "execution_count": 94,
   "id": "large-religion",
   "metadata": {},
   "outputs": [
    {
     "name": "stdout",
     "output_type": "stream",
     "text": [
      "  (0, 12902)\t0.30242249002428856\n",
      "  (0, 5508)\t0.29934295519297766\n",
      "  (0, 11307)\t0.15322654016050938\n",
      "  (0, 22289)\t0.3484071341454308\n",
      "  (0, 3862)\t0.3057957387722184\n",
      "  (0, 11409)\t0.20615188166061463\n",
      "  (0, 22649)\t0.2657527888603838\n",
      "  (0, 12528)\t0.24883399099107745\n",
      "  (0, 4507)\t0.20531415441295314\n",
      "  (0, 19171)\t0.22537992364975482\n",
      "  (0, 7574)\t0.23047267305353564\n",
      "  (0, 6145)\t0.2467717189255334\n",
      "  (0, 23355)\t0.18006497451107856\n",
      "  (0, 904)\t0.26354004814013343\n",
      "  (0, 5800)\t0.2502787762405247\n",
      "  (0, 10387)\t0.18448802893239347\n",
      "  (1, 5469)\t0.2624012615566619\n",
      "  (1, 3075)\t0.15310531118537438\n",
      "  (1, 3509)\t0.37751839443307017\n",
      "  (1, 15149)\t0.15862263711495958\n",
      "  (1, 23748)\t0.2966210296019264\n",
      "  (1, 2544)\t0.2899843833664323\n",
      "  (1, 4298)\t0.19024289659874757\n",
      "  (1, 10134)\t0.18787145765749733\n",
      "  (1, 8420)\t0.7045992054867243\n",
      "  :\t:\n",
      "  (20797, 10427)\t0.20792477683235194\n",
      "  (20797, 13744)\t0.1664934722495736\n",
      "  (20797, 1233)\t0.09872429470978489\n",
      "  (20797, 21736)\t0.07862801661525558\n",
      "  (20797, 23989)\t0.07932255202830432\n",
      "  (20797, 14657)\t0.07666920654139502\n",
      "  (20797, 21775)\t0.08771697713185383\n",
      "  (20797, 21564)\t0.06321126907384642\n",
      "  (20798, 7676)\t0.43299674985280595\n",
      "  (20798, 2068)\t0.43299674985280595\n",
      "  (20798, 1324)\t0.2955941555358824\n",
      "  (20798, 1009)\t0.2706299600743188\n",
      "  (20798, 10228)\t0.33603181710149316\n",
      "  (20798, 15626)\t0.43299674985280595\n",
      "  (20798, 14500)\t0.3026696913367681\n",
      "  (20798, 18626)\t0.21201851100491342\n",
      "  (20798, 21775)\t0.11011861411023321\n",
      "  (20798, 10764)\t0.12377674027536936\n",
      "  (20799, 270)\t0.4679442365402834\n",
      "  (20799, 1043)\t0.4480459367054237\n",
      "  (20799, 21101)\t0.4480459367054237\n",
      "  (20799, 5537)\t0.2993058137514979\n",
      "  (20799, 11815)\t0.45575108674851145\n",
      "  (20799, 23493)\t0.2683870404159613\n",
      "  (20799, 21564)\t0.10106058584391787\n"
     ]
    }
   ],
   "source": [
    "from sklearn.feature_extraction.text import TfidfVectorizer\n",
    "vectorizer = TfidfVectorizer()\n",
    "S = vectorizer.fit_transform(X.concat)\n",
    "print(S)\n"
   ]
  },
  {
   "cell_type": "code",
   "execution_count": 95,
   "id": "distant-immigration",
   "metadata": {},
   "outputs": [
    {
     "data": {
      "text/plain": [
       "(20800, 4)"
      ]
     },
     "execution_count": 95,
     "metadata": {},
     "output_type": "execute_result"
    }
   ],
   "source": [
    "X.shape"
   ]
  },
  {
   "cell_type": "code",
   "execution_count": 98,
   "id": "protective-champion",
   "metadata": {},
   "outputs": [],
   "source": [
    "X_train, X_test, y_train, y_test = train_test_split(S, y, test_size=0.2, random_state=44, shuffle =True)\n"
   ]
  },
  {
   "cell_type": "code",
   "execution_count": 99,
   "id": "valid-sussex",
   "metadata": {},
   "outputs": [
    {
     "name": "stderr",
     "output_type": "stream",
     "text": [
      "C:\\Users\\HP\\Anaconda3\\lib\\site-packages\\sklearn\\linear_model\\logistic.py:432: FutureWarning: Default solver will be changed to 'lbfgs' in 0.22. Specify a solver to silence this warning.\n",
      "  FutureWarning)\n"
     ]
    },
    {
     "name": "stdout",
     "output_type": "stream",
     "text": [
      "LogisticRegressionModel Train Score is :  0.9868990384615385\n",
      "LogisticRegressionModel Test Score is :  0.9776442307692308\n"
     ]
    }
   ],
   "source": [
    "\n",
    "LogisticRegressionModel = LogisticRegression()\n",
    "LogisticRegressionModel.fit(X_train, y_train)\n",
    "\n",
    "#Calculating Details\n",
    "print('LogisticRegressionModel Train Score is : ' , LogisticRegressionModel.score(X_train, y_train))\n",
    "print('LogisticRegressionModel Test Score is : ' , LogisticRegressionModel.score(X_test, y_test))"
   ]
  },
  {
   "cell_type": "code",
   "execution_count": null,
   "id": "broke-textbook",
   "metadata": {},
   "outputs": [],
   "source": []
  }
 ],
 "metadata": {
  "kernelspec": {
   "display_name": "Python 3",
   "language": "python",
   "name": "python3"
  },
  "language_info": {
   "codemirror_mode": {
    "name": "ipython",
    "version": 3
   },
   "file_extension": ".py",
   "mimetype": "text/x-python",
   "name": "python",
   "nbconvert_exporter": "python",
   "pygments_lexer": "ipython3",
   "version": "3.7.3"
  }
 },
 "nbformat": 4,
 "nbformat_minor": 5
}
